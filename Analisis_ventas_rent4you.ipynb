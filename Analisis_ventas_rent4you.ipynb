{
 "cells": [
  {
   "cell_type": "code",
   "execution_count": 1,
   "id": "0e891002-dcf0-460d-8c77-4f77843caf5c",
   "metadata": {},
   "outputs": [],
   "source": [
    "import pandas as pd\n",
    "import numpy as np\n",
    "import os\n",
    "from sklearn.model_selection import train_test_split\n",
    "from sklearn.tree import DecisionTreeClassifier\n",
    "from sklearn.metrics import confusion_matrix\n",
    "from sklearn.metrics import precision_score"
   ]
  },
  {
   "cell_type": "code",
   "execution_count": 2,
   "id": "b1a6a63f-17dc-4593-be97-14174834b1bf",
   "metadata": {},
   "outputs": [],
   "source": [
    "datos = pd.read_csv(filepath_or_buffer = \"/Users/ninoj/Downloads/sucursales_base_datos.csv\",index_col=0, encoding='latin-1')"
   ]
  },
  {
   "cell_type": "code",
   "execution_count": 3,
   "id": "3b27651a-8f1c-4e00-bc5b-b6d20d9de409",
   "metadata": {},
   "outputs": [
    {
     "data": {
      "text/html": [
       "<div>\n",
       "<style scoped>\n",
       "    .dataframe tbody tr th:only-of-type {\n",
       "        vertical-align: middle;\n",
       "    }\n",
       "\n",
       "    .dataframe tbody tr th {\n",
       "        vertical-align: top;\n",
       "    }\n",
       "\n",
       "    .dataframe thead th {\n",
       "        text-align: right;\n",
       "    }\n",
       "</style>\n",
       "<table border=\"1\" class=\"dataframe\">\n",
       "  <thead>\n",
       "    <tr style=\"text-align: right;\">\n",
       "      <th></th>\n",
       "      <th>nombre_sucursal</th>\n",
       "      <th>ciudad</th>\n",
       "      <th>estado</th>\n",
       "      <th>ganancias</th>\n",
       "    </tr>\n",
       "    <tr>\n",
       "      <th>id_sucursal</th>\n",
       "      <th></th>\n",
       "      <th></th>\n",
       "      <th></th>\n",
       "      <th></th>\n",
       "    </tr>\n",
       "  </thead>\n",
       "  <tbody>\n",
       "    <tr>\n",
       "      <th>1</th>\n",
       "      <td>Realfire</td>\n",
       "      <td>San Cristobal</td>\n",
       "      <td>NaN</td>\n",
       "      <td>24351.94</td>\n",
       "    </tr>\n",
       "    <tr>\n",
       "      <th>2</th>\n",
       "      <td>Edgeclub</td>\n",
       "      <td>Nerchinsk</td>\n",
       "      <td>NaN</td>\n",
       "      <td>27031.62</td>\n",
       "    </tr>\n",
       "    <tr>\n",
       "      <th>3</th>\n",
       "      <td>Wordify</td>\n",
       "      <td>Dusun Tengah Cihaurbeuti</td>\n",
       "      <td>NaN</td>\n",
       "      <td>25168.71</td>\n",
       "    </tr>\n",
       "    <tr>\n",
       "      <th>4</th>\n",
       "      <td>Agivu</td>\n",
       "      <td>La Jicaral</td>\n",
       "      <td>NaN</td>\n",
       "      <td>18271.42</td>\n",
       "    </tr>\n",
       "    <tr>\n",
       "      <th>5</th>\n",
       "      <td>Gabcube</td>\n",
       "      <td>Nyanga</td>\n",
       "      <td>NaN</td>\n",
       "      <td>33665.42</td>\n",
       "    </tr>\n",
       "    <tr>\n",
       "      <th>...</th>\n",
       "      <td>...</td>\n",
       "      <td>...</td>\n",
       "      <td>...</td>\n",
       "      <td>...</td>\n",
       "    </tr>\n",
       "    <tr>\n",
       "      <th>996</th>\n",
       "      <td>Kwideo</td>\n",
       "      <td>Tubajon</td>\n",
       "      <td>NaN</td>\n",
       "      <td>21273.05</td>\n",
       "    </tr>\n",
       "    <tr>\n",
       "      <th>997</th>\n",
       "      <td>Riffpath</td>\n",
       "      <td>Tongole</td>\n",
       "      <td>NaN</td>\n",
       "      <td>16665.61</td>\n",
       "    </tr>\n",
       "    <tr>\n",
       "      <th>998</th>\n",
       "      <td>InnoZ</td>\n",
       "      <td>Tangwei</td>\n",
       "      <td>NaN</td>\n",
       "      <td>30059.25</td>\n",
       "    </tr>\n",
       "    <tr>\n",
       "      <th>999</th>\n",
       "      <td>Einti</td>\n",
       "      <td>Benito Juarez</td>\n",
       "      <td>Chihuahua</td>\n",
       "      <td>22834.73</td>\n",
       "    </tr>\n",
       "    <tr>\n",
       "      <th>1000</th>\n",
       "      <td>Dabvine</td>\n",
       "      <td>Pampas</td>\n",
       "      <td>NaN</td>\n",
       "      <td>45756.59</td>\n",
       "    </tr>\n",
       "  </tbody>\n",
       "</table>\n",
       "<p>1000 rows × 4 columns</p>\n",
       "</div>"
      ],
      "text/plain": [
       "            nombre_sucursal                    ciudad     estado  ganancias\n",
       "id_sucursal                                                                \n",
       "1                  Realfire             San Cristobal        NaN   24351.94\n",
       "2                  Edgeclub                 Nerchinsk        NaN   27031.62\n",
       "3                   Wordify  Dusun Tengah Cihaurbeuti        NaN   25168.71\n",
       "4                     Agivu                La Jicaral        NaN   18271.42\n",
       "5                   Gabcube                    Nyanga        NaN   33665.42\n",
       "...                     ...                       ...        ...        ...\n",
       "996                  Kwideo                   Tubajon        NaN   21273.05\n",
       "997                Riffpath                   Tongole        NaN   16665.61\n",
       "998                   InnoZ                   Tangwei        NaN   30059.25\n",
       "999                   Einti             Benito Juarez  Chihuahua   22834.73\n",
       "1000                Dabvine                    Pampas        NaN   45756.59\n",
       "\n",
       "[1000 rows x 4 columns]"
      ]
     },
     "execution_count": 3,
     "metadata": {},
     "output_type": "execute_result"
    }
   ],
   "source": [
    "datos"
   ]
  },
  {
   "cell_type": "code",
   "execution_count": 5,
   "id": "85afa9a7-3c5d-4b26-a77a-abc7df446465",
   "metadata": {},
   "outputs": [
    {
     "data": {
      "text/plain": [
       "nombre_sucursal     object\n",
       "ciudad              object\n",
       "estado              object\n",
       "ganancias          float64\n",
       "dtype: object"
      ]
     },
     "execution_count": 5,
     "metadata": {},
     "output_type": "execute_result"
    }
   ],
   "source": [
    "datos.dtypes"
   ]
  },
  {
   "cell_type": "code",
   "execution_count": 7,
   "id": "2c5a11d8-0e31-4555-8b24-443d3073a22d",
   "metadata": {},
   "outputs": [
    {
     "data": {
      "text/html": [
       "<div>\n",
       "<style scoped>\n",
       "    .dataframe tbody tr th:only-of-type {\n",
       "        vertical-align: middle;\n",
       "    }\n",
       "\n",
       "    .dataframe tbody tr th {\n",
       "        vertical-align: top;\n",
       "    }\n",
       "\n",
       "    .dataframe thead th {\n",
       "        text-align: right;\n",
       "    }\n",
       "</style>\n",
       "<table border=\"1\" class=\"dataframe\">\n",
       "  <thead>\n",
       "    <tr style=\"text-align: right;\">\n",
       "      <th></th>\n",
       "      <th>ganancias</th>\n",
       "    </tr>\n",
       "  </thead>\n",
       "  <tbody>\n",
       "    <tr>\n",
       "      <th>count</th>\n",
       "      <td>1000.00000</td>\n",
       "    </tr>\n",
       "    <tr>\n",
       "      <th>mean</th>\n",
       "      <td>30489.76219</td>\n",
       "    </tr>\n",
       "    <tr>\n",
       "      <th>std</th>\n",
       "      <td>11414.10622</td>\n",
       "    </tr>\n",
       "    <tr>\n",
       "      <th>min</th>\n",
       "      <td>10078.64000</td>\n",
       "    </tr>\n",
       "    <tr>\n",
       "      <th>25%</th>\n",
       "      <td>20833.47250</td>\n",
       "    </tr>\n",
       "    <tr>\n",
       "      <th>50%</th>\n",
       "      <td>30355.19000</td>\n",
       "    </tr>\n",
       "    <tr>\n",
       "      <th>75%</th>\n",
       "      <td>40329.62250</td>\n",
       "    </tr>\n",
       "    <tr>\n",
       "      <th>max</th>\n",
       "      <td>49993.93000</td>\n",
       "    </tr>\n",
       "  </tbody>\n",
       "</table>\n",
       "</div>"
      ],
      "text/plain": [
       "         ganancias\n",
       "count   1000.00000\n",
       "mean   30489.76219\n",
       "std    11414.10622\n",
       "min    10078.64000\n",
       "25%    20833.47250\n",
       "50%    30355.19000\n",
       "75%    40329.62250\n",
       "max    49993.93000"
      ]
     },
     "execution_count": 7,
     "metadata": {},
     "output_type": "execute_result"
    }
   ],
   "source": [
    "datos.describe()"
   ]
  },
  {
   "cell_type": "code",
   "execution_count": 8,
   "id": "569d64f6-5c09-44cb-b119-e2fd2076a99d",
   "metadata": {},
   "outputs": [
    {
     "data": {
      "text/plain": [
       "nombre_sucursal     object\n",
       "ciudad              object\n",
       "estado              object\n",
       "ganancias          float64\n",
       "dtype: object"
      ]
     },
     "execution_count": 8,
     "metadata": {},
     "output_type": "execute_result"
    }
   ],
   "source": [
    "datos.dtypes"
   ]
  },
  {
   "cell_type": "code",
   "execution_count": 9,
   "id": "c73a4ca5-9232-4e8b-b1ec-aba4ef338954",
   "metadata": {},
   "outputs": [],
   "source": [
    "datos_nuevos = datos.loc[:,['nombre_sucursal','ciudad','ganancias']]"
   ]
  },
  {
   "cell_type": "code",
   "execution_count": 10,
   "id": "2ef7d3ca-07c0-4bb5-bae7-7eab6c83109b",
   "metadata": {},
   "outputs": [
    {
     "data": {
      "text/html": [
       "<div>\n",
       "<style scoped>\n",
       "    .dataframe tbody tr th:only-of-type {\n",
       "        vertical-align: middle;\n",
       "    }\n",
       "\n",
       "    .dataframe tbody tr th {\n",
       "        vertical-align: top;\n",
       "    }\n",
       "\n",
       "    .dataframe thead th {\n",
       "        text-align: right;\n",
       "    }\n",
       "</style>\n",
       "<table border=\"1\" class=\"dataframe\">\n",
       "  <thead>\n",
       "    <tr style=\"text-align: right;\">\n",
       "      <th></th>\n",
       "      <th>nombre_sucursal</th>\n",
       "      <th>ciudad</th>\n",
       "      <th>ganancias</th>\n",
       "    </tr>\n",
       "    <tr>\n",
       "      <th>id_sucursal</th>\n",
       "      <th></th>\n",
       "      <th></th>\n",
       "      <th></th>\n",
       "    </tr>\n",
       "  </thead>\n",
       "  <tbody>\n",
       "    <tr>\n",
       "      <th>1</th>\n",
       "      <td>Realfire</td>\n",
       "      <td>San Cristobal</td>\n",
       "      <td>24351.94</td>\n",
       "    </tr>\n",
       "    <tr>\n",
       "      <th>2</th>\n",
       "      <td>Edgeclub</td>\n",
       "      <td>Nerchinsk</td>\n",
       "      <td>27031.62</td>\n",
       "    </tr>\n",
       "    <tr>\n",
       "      <th>3</th>\n",
       "      <td>Wordify</td>\n",
       "      <td>Dusun Tengah Cihaurbeuti</td>\n",
       "      <td>25168.71</td>\n",
       "    </tr>\n",
       "    <tr>\n",
       "      <th>4</th>\n",
       "      <td>Agivu</td>\n",
       "      <td>La Jicaral</td>\n",
       "      <td>18271.42</td>\n",
       "    </tr>\n",
       "    <tr>\n",
       "      <th>5</th>\n",
       "      <td>Gabcube</td>\n",
       "      <td>Nyanga</td>\n",
       "      <td>33665.42</td>\n",
       "    </tr>\n",
       "    <tr>\n",
       "      <th>...</th>\n",
       "      <td>...</td>\n",
       "      <td>...</td>\n",
       "      <td>...</td>\n",
       "    </tr>\n",
       "    <tr>\n",
       "      <th>996</th>\n",
       "      <td>Kwideo</td>\n",
       "      <td>Tubajon</td>\n",
       "      <td>21273.05</td>\n",
       "    </tr>\n",
       "    <tr>\n",
       "      <th>997</th>\n",
       "      <td>Riffpath</td>\n",
       "      <td>Tongole</td>\n",
       "      <td>16665.61</td>\n",
       "    </tr>\n",
       "    <tr>\n",
       "      <th>998</th>\n",
       "      <td>InnoZ</td>\n",
       "      <td>Tangwei</td>\n",
       "      <td>30059.25</td>\n",
       "    </tr>\n",
       "    <tr>\n",
       "      <th>999</th>\n",
       "      <td>Einti</td>\n",
       "      <td>Benito Juarez</td>\n",
       "      <td>22834.73</td>\n",
       "    </tr>\n",
       "    <tr>\n",
       "      <th>1000</th>\n",
       "      <td>Dabvine</td>\n",
       "      <td>Pampas</td>\n",
       "      <td>45756.59</td>\n",
       "    </tr>\n",
       "  </tbody>\n",
       "</table>\n",
       "<p>1000 rows × 3 columns</p>\n",
       "</div>"
      ],
      "text/plain": [
       "            nombre_sucursal                    ciudad  ganancias\n",
       "id_sucursal                                                     \n",
       "1                  Realfire             San Cristobal   24351.94\n",
       "2                  Edgeclub                 Nerchinsk   27031.62\n",
       "3                   Wordify  Dusun Tengah Cihaurbeuti   25168.71\n",
       "4                     Agivu                La Jicaral   18271.42\n",
       "5                   Gabcube                    Nyanga   33665.42\n",
       "...                     ...                       ...        ...\n",
       "996                  Kwideo                   Tubajon   21273.05\n",
       "997                Riffpath                   Tongole   16665.61\n",
       "998                   InnoZ                   Tangwei   30059.25\n",
       "999                   Einti             Benito Juarez   22834.73\n",
       "1000                Dabvine                    Pampas   45756.59\n",
       "\n",
       "[1000 rows x 3 columns]"
      ]
     },
     "execution_count": 10,
     "metadata": {},
     "output_type": "execute_result"
    }
   ],
   "source": [
    "datos_nuevos"
   ]
  },
  {
   "cell_type": "code",
   "execution_count": 11,
   "id": "7d39c5a6-64e1-4cf1-997a-40ce24d053e6",
   "metadata": {},
   "outputs": [],
   "source": [
    "# Elimino registros con datos faltantes\n",
    "datos_nuevos = datos_nuevos.dropna()"
   ]
  },
  {
   "cell_type": "code",
   "execution_count": 14,
   "id": "c57caf8e-a007-4de7-8b52-45d22a966338",
   "metadata": {},
   "outputs": [],
   "source": [
    "#Vamos a mostrar solo las sucursales que tengan un mayor ingreso a 20000 y menor a 35000\n",
    "sucursales_filtradas = datos_nuevos[(datos_nuevos['ganancias'] > 20000) & (datos_nuevos['ganancias'] < 25000)]\n",
    "\n",
    "\n"
   ]
  },
  {
   "cell_type": "code",
   "execution_count": 15,
   "id": "6ab250be-3a5c-4cbc-8313-835c15138333",
   "metadata": {},
   "outputs": [
    {
     "name": "stdout",
     "output_type": "stream",
     "text": [
      "            nombre_sucursal            ciudad  ganancias\n",
      "id_sucursal                                             \n",
      "1                  Realfire     San Cristobal   24351.94\n",
      "8                     Roomm       Paitan Este   23771.53\n",
      "10               Thoughtmix   Karangwungu Lor   22771.16\n",
      "11                    Jazzy            Margos   22300.71\n",
      "12                  Centizu           Aracruz   22575.67\n",
      "...                     ...               ...        ...\n",
      "929                 Skalith          Ventanas   24865.68\n",
      "961                   Twiyo        Shepetivka   22738.30\n",
      "977                Wordtune  Montfort-sur-Meu   21864.65\n",
      "996                  Kwideo           Tubajon   21273.05\n",
      "999                   Einti     Benito Juarez   22834.73\n",
      "\n",
      "[116 rows x 3 columns]\n"
     ]
    }
   ],
   "source": [
    "print(sucursales_filtradas)"
   ]
  },
  {
   "cell_type": "code",
   "execution_count": 17,
   "id": "47568715-87d9-467e-b507-1f7a49ddc3f7",
   "metadata": {},
   "outputs": [],
   "source": [
    "sucursales_filtradas.to_csv('C:/Users/ninoj/Downloads/sucursales_filtradas_2024.csv', index=False)\n"
   ]
  },
  {
   "cell_type": "code",
   "execution_count": null,
   "id": "15042ce3-472c-458b-b5c4-a4b7ed70f32e",
   "metadata": {},
   "outputs": [],
   "source": []
  }
 ],
 "metadata": {
  "kernelspec": {
   "display_name": "Python 3 (ipykernel)",
   "language": "python",
   "name": "python3"
  },
  "language_info": {
   "codemirror_mode": {
    "name": "ipython",
    "version": 3
   },
   "file_extension": ".py",
   "mimetype": "text/x-python",
   "name": "python",
   "nbconvert_exporter": "python",
   "pygments_lexer": "ipython3",
   "version": "3.12.6"
  }
 },
 "nbformat": 4,
 "nbformat_minor": 5
}
